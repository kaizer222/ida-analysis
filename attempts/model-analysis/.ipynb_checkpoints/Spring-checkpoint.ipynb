{
 "cells": [
  {
   "cell_type": "code",
   "execution_count": 2,
   "metadata": {},
   "outputs": [],
   "source": [
    "import numpy as np\n",
    "import matplotlib.pyplot as plt\n",
    "import scipy.integrate as si\n",
    "import scipy.optimize as so\n",
    "\n",
    "%matplotlib qt"
   ]
  },
  {
   "cell_type": "markdown",
   "metadata": {},
   "source": [
    "### Parameters"
   ]
  },
  {
   "cell_type": "code",
   "execution_count": 38,
   "metadata": {},
   "outputs": [],
   "source": [
    "# mass of squash ball\n",
    "mb = 0.050 # kg\n",
    "# mass of carrier\n",
    "mc = 0.025 # kg\n",
    "# mass of ball + carrier\n",
    "mt = mb + mc\n",
    "\n",
    "# Number of springs in series\n",
    "Ns = 2\n",
    "\n",
    "# Number of springs in parallel\n",
    "Np = 2\n",
    "\n",
    "# Length of spring\n",
    "L0 = 0.05 * Ns # m\n",
    "# Spring constant\n",
    "k = 1000/Ns*Np # N/m\n",
    "\n",
    "# Launch angle\n",
    "theta = 50/180*np.pi # rad\n",
    "\n",
    "# Gravitational acceleration\n",
    "g = 9.81 # m/s^2\n",
    "\n",
    "# Friction factor\n",
    "f = 0.5 # N/(m/s)\n",
    "\n",
    "# Spring position\n",
    "xs = 0.2 # m\n",
    "ys = 0.1 # m"
   ]
  },
  {
   "cell_type": "markdown",
   "metadata": {},
   "source": [
    "### Initial conditions"
   ]
  },
  {
   "cell_type": "code",
   "execution_count": 19,
   "metadata": {},
   "outputs": [],
   "source": [
    "# Initial spring compression\n",
    "s0 = 0.02 # m\n",
    "\n",
    "# Initial velocity\n",
    "v0 = 0.0 # m/s\n",
    "\n",
    "y0 = [s0, v0]"
   ]
  },
  {
   "cell_type": "code",
   "execution_count": 6,
   "metadata": {},
   "outputs": [],
   "source": [
    "# Spring equation\n",
    "def spring(y, t):\n",
    "    # unpack\n",
    "    s, v = y\n",
    "    # dsdt\n",
    "    dsdt = -v\n",
    "    # dvdt\n",
    "    dvdt = k*s/mt - g*np.sin(theta) - f*v/mt\n",
    "    \n",
    "    return dsdt, dvdt"
   ]
  },
  {
   "cell_type": "markdown",
   "metadata": {},
   "source": [
    "### Find maximum velocity (or zero acceleration)"
   ]
  },
  {
   "cell_type": "code",
   "execution_count": 23,
   "metadata": {},
   "outputs": [],
   "source": [
    "def maxVelocity(t_end):\n",
    "    t = np.linspace(0, t_end, 100)\n",
    "    sol = si.odeint(spring, y0, t)\n",
    "    v, a = spring(sol[-1], t_end)\n",
    "    return a"
   ]
  },
  {
   "cell_type": "code",
   "execution_count": 40,
   "metadata": {},
   "outputs": [],
   "source": [
    "plt.clf()\n",
    "for s0 in np.array([0.01, 0.02, 0.03, 0.04])*Ns:\n",
    "    y0 = [s0, v0]\n",
    "\n",
    "    t_end = so.newton(maxVelocity, 0.013)\n",
    "\n",
    "    t = np.linspace(0,t_end,100)\n",
    "\n",
    "    sol = si.odeint(spring, y0, t)\n",
    "\n",
    "    s = sol[:,0]\n",
    "    v = sol[:,1]\n",
    "    plt.plot(t, v, label='s0=%0.2f m' % s0)\n",
    "    \n",
    "plt.legend()\n",
    "plt.xlabel('time (s)')\n",
    "plt.ylabel('Velocity (m/s)')\n",
    "\n",
    "plt.savefig('compressions.png', dpi=300)"
   ]
  }
 ],
 "metadata": {
  "kernelspec": {
   "display_name": "Python 3",
   "language": "python",
   "name": "python3"
  },
  "language_info": {
   "codemirror_mode": {
    "name": "ipython",
    "version": 3
   },
   "file_extension": ".py",
   "mimetype": "text/x-python",
   "name": "python",
   "nbconvert_exporter": "python",
   "pygments_lexer": "ipython3",
   "version": "3.8.5"
  }
 },
 "nbformat": 4,
 "nbformat_minor": 4
}
