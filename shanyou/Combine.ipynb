{
 "cells": [
  {
   "cell_type": "code",
   "execution_count": 36,
   "metadata": {},
   "outputs": [],
   "source": [
    "# import all modules required\n",
    "import numpy as np              # for the arrays  \n",
    "import matplotlib.pyplot as plt # for the plotting\n",
    "import scipy.integrate as si    # to integrate numerically the equations of motion\n",
    "import scipy.optimize as so     # for the bisection algorithm\n",
    "\n",
    "# change to qt for plots in a new window\n",
    "%matplotlib qt"
   ]
  },
  {
   "cell_type": "markdown",
   "metadata": {},
   "source": [
    "### Parameters (spring)"
   ]
  },
  {
   "cell_type": "code",
   "execution_count": 121,
   "metadata": {},
   "outputs": [],
   "source": [
    "# mass of squash ball\n",
    "m = 0.050 # kg\n",
    "\n",
    "# diameter of squash ball\n",
    "d =  0.040 # mm\n",
    "\n",
    "# mass of carrier\n",
    "mc = 0.025 # kg\n",
    "# mass of ball + carrier\n",
    "mt = m + mc\n",
    "\n",
    "# Number of springs in series\n",
    "Ns = 2\n",
    "\n",
    "# Number of springs in parallel\n",
    "Np = 2\n",
    "\n",
    "# Length of spring\n",
    "L0 = 0.05 * Ns # m\n",
    "# Spring constant\n",
    "k = 1000/Ns*Np # N/m\n",
    "\n",
    "# Launch angle\n",
    "theta = 50/180*np.pi # rad\n",
    "\n",
    "# Gravitational acceleration\n",
    "g = 9.81 # m/s^2\n",
    "\n",
    "# Friction factor\n",
    "f = 0.5 # N/(m/s)\n",
    "\n",
    "# Spring position\n",
    "xs = 0.2 # m\n",
    "ys = 0.1 # m"
   ]
  },
  {
   "cell_type": "markdown",
   "metadata": {},
   "source": [
    "### Parameters (Trajectory)"
   ]
  },
  {
   "cell_type": "code",
   "execution_count": 122,
   "metadata": {},
   "outputs": [],
   "source": [
    "# density and dynamic viscosity of air\n",
    "rho = 1.204    # kg/m^3\n",
    "mu  = 1.825e-5 # Pa s "
   ]
  },
  {
   "cell_type": "markdown",
   "metadata": {},
   "source": [
    "### Initial Conditions for spring"
   ]
  },
  {
   "cell_type": "code",
   "execution_count": 123,
   "metadata": {},
   "outputs": [],
   "source": [
    "# Initial spring compression\n",
    "s0 = 0.02 # m\n",
    "\n",
    "# Initial velocity\n",
    "v0 = 0.0 # m/s\n",
    "\n",
    "y0 = [s0, v0]"
   ]
  },
  {
   "cell_type": "markdown",
   "metadata": {},
   "source": [
    "### Spring equation"
   ]
  },
  {
   "cell_type": "code",
   "execution_count": 124,
   "metadata": {},
   "outputs": [],
   "source": [
    "# Spring equation\n",
    "def spring(y, t):\n",
    "    # unpack\n",
    "    s, v = y\n",
    "    # dsdt\n",
    "    dsdt = -v\n",
    "    # dvdt\n",
    "    dvdt = k*s/mt - g*np.sin(theta) - f*v/mt\n",
    "    \n",
    "    return dsdt, dvdt"
   ]
  },
  {
   "cell_type": "markdown",
   "metadata": {},
   "source": [
    "### Find maximum launching velocity"
   ]
  },
  {
   "cell_type": "code",
   "execution_count": 125,
   "metadata": {},
   "outputs": [],
   "source": [
    "def maxVelocity(t_end):\n",
    "    t = np.linspace(0, t_end, 100)\n",
    "    sol = si.odeint(spring, y0, t)\n",
    "    v, a = spring(sol[-1], t_end)\n",
    "    return a"
   ]
  },
  {
   "cell_type": "code",
   "execution_count": 126,
   "metadata": {},
   "outputs": [
    {
     "name": "stdout",
     "output_type": "stream",
     "text": [
      "[4.355392161891462, 5.018037952412451, 5.680683743321095, 6.343329534118095, 7.005975324956749, 7.668621114198129, 8.3312669010191, 8.993912685989494, 9.656558469953742, 10.319204262022046, 10.981850047277145]\n"
     ]
    }
   ],
   "source": [
    "plt.clf()\n",
    "y = []\n",
    "for s0 in np.array([0.02, 0.023, 0.026, 0.029 ,0.032, 0.035, 0.038, 0.041, 0.044, 0.047, 0.05])*Ns:\n",
    "    y0 = [s0, v0]\n",
    "\n",
    "    t_end = so.newton(maxVelocity, 0.013)\n",
    "\n",
    "    t = np.linspace(0,t_end,100)\n",
    "\n",
    "    sol = si.odeint(spring, y0, t)\n",
    "\n",
    "    s = sol[:,0]\n",
    "    v = sol[:,1]\n",
    "    y.append(v[-1])\n",
    "    plt.plot(t, v, label='s0=%0.2f m' % s0)\n",
    "    \n",
    "plt.legend()\n",
    "plt.xlabel('time (s)')\n",
    "plt.ylabel('Velocity (m/s)')\n",
    "\n",
    "print(y)"
   ]
  },
  {
   "cell_type": "markdown",
   "metadata": {},
   "source": [
    "### Define functions/equations that needed for trajectory"
   ]
  },
  {
   "cell_type": "code",
   "execution_count": 127,
   "metadata": {},
   "outputs": [],
   "source": [
    "# obtain drag coefficient from Reynolds number\n",
    "def get_CD(Re):\n",
    "    return 24/Re * (1 + 0.27*Re)**0.43 + 0.47 * (1 - np.exp(-0.04*Re**0.38))"
   ]
  },
  {
   "cell_type": "code",
   "execution_count": 128,
   "metadata": {},
   "outputs": [],
   "source": [
    "# compute right hand side of governing equations at a generic\n",
    "# position u, defining the x, y, Vx and Vy state variables\n",
    "def squashball(u, t):\n",
    "    # unpack u\n",
    "    x, y, Vx, Vy = u\n",
    "    \n",
    "    # find theta\n",
    "    theta = np.arctan2(Vy, Vx)\n",
    "    \n",
    "    # magnitude of velocity\n",
    "    V_mag = np.sqrt(Vx**2 + Vy**2)\n",
    "    \n",
    "    # compute Reynolds number\n",
    "    Re = rho * V_mag * d / mu\n",
    "    \n",
    "    # drag coefficient\n",
    "    CD = get_CD(Re)\n",
    "    \n",
    "    # calculate drag (AND HERE IS WHERE THE MISTAKE WAS!!!)\n",
    "    D_mag = 0.5 * rho * V_mag**2 * CD * d**2\n",
    "    \n",
    "    # calculate drag components\n",
    "    Dx = D_mag * np.cos(theta)\n",
    "    Dy = D_mag * np.sin(theta)\n",
    "    \n",
    "    # calculate acceleration\n",
    "    ax = - Dx/m\n",
    "    ay = - Dy/m - g\n",
    "    \n",
    "    # return velocity and acceleration\n",
    "    return [Vx, Vy, ax, ay]"
   ]
  },
  {
   "cell_type": "markdown",
   "metadata": {},
   "source": [
    "### Trajectory "
   ]
  },
  {
   "cell_type": "code",
   "execution_count": 129,
   "metadata": {},
   "outputs": [],
   "source": [
    "# return t, x, y, Vx, Vy given final integral time T\n",
    "def trajectory(x0, y0, Vx0, Vy0, T=1):\n",
    "    # pack IC into u0\n",
    "    u0 = [x0, y0, Vx0, Vy0]\n",
    "    \n",
    "    # define array of times\n",
    "    t  = np.linspace(0, T, 101)\n",
    "    \n",
    "    # integrate forward\n",
    "    out = si.odeint(squashball, u0, t)\n",
    "\n",
    "    # unpack data\n",
    "    x  = out[:, 0]\n",
    "    y  = out[:, 1]\n",
    "    Vx = out[:, 2]\n",
    "    Vy = out[:, 3]\n",
    "    \n",
    "    return t, x, y, Vx, Vy"
   ]
  },
  {
   "cell_type": "markdown",
   "metadata": {},
   "source": [
    "### Trajectory with stop "
   ]
  },
  {
   "cell_type": "code",
   "execution_count": 130,
   "metadata": {},
   "outputs": [],
   "source": [
    "# return t, x, y, Vx, Vy from given IC with y[-1] = 0\n",
    "def trajectory_with_stop(x0, y0, Vx0, Vy0):\n",
    "\n",
    "    # return y at t=T from give initial conditions\n",
    "    def find_y_at_T(T):\n",
    "        t, x, y, Vx, Vy = trajectory(x0, y0, Vx0, Vy0, T=T)\n",
    "        return y[-1]\n",
    "    \n",
    "    # find T_stop such that y(T_stop) = 0\n",
    "    # find T_stop such that find_y_at_T(T_stop) = 0\n",
    "    T_stop = so.newton(find_y_at_T, 2)\n",
    "    \n",
    "    return trajectory(x0, y0, Vx0, Vy0, T=T_stop)"
   ]
  },
  {
   "cell_type": "markdown",
   "metadata": {},
   "source": [
    "### Define functions for calculating distance"
   ]
  },
  {
   "cell_type": "code",
   "execution_count": 131,
   "metadata": {},
   "outputs": [],
   "source": [
    "# compute velocity components from velocity magnitude and angle\n",
    "def mag2comp(V_mag, theta):\n",
    "    return V_mag * np.cos(theta), V_mag * np.sin(theta)"
   ]
  },
  {
   "cell_type": "code",
   "execution_count": 132,
   "metadata": {},
   "outputs": [],
   "source": [
    "# return distance given initial velocity (at 45 degrees)\n",
    "def distance(V_mag, theta):\n",
    "    # find velocity components\n",
    "    Vx, Vy = mag2comp(V_mag, np.deg2rad(theta))\n",
    "\n",
    "    # solve forward\n",
    "    t, x, y, Vx, Vy = trajectory_with_stop(0, 0, Vx, Vy)\n",
    "    \n",
    "    # return final distance\n",
    "    return x[-1]"
   ]
  },
  {
   "cell_type": "code",
   "execution_count": 161,
   "metadata": {},
   "outputs": [],
   "source": [
    "# initial velocities\n",
    "V_mags = y\n",
    "angle = np.linspace(0, 90, 11)\n",
    "\n",
    "x = []\n",
    "for v in V_mags:\n",
    "    for theta in angle:\n",
    "        c = distance(v, theta)\n",
    "        x.append(c)\n",
    "\n",
    "x1 = x[0:11]\n",
    "x2 = x[11:22]\n",
    "x3 = x[22:33]\n",
    "x4 = x[33:44]\n",
    "x5 = x[44:55]\n",
    "x6 = x[55:66]\n",
    "x7 = x[66:77]\n",
    "x8 = x[77:88]\n",
    "x9 = x[99:110]\n",
    "x10 = x[110:121]\n",
    "xtotal = []\n",
    "xtotal.append(x1)\n",
    "xtotal.append(x2)\n",
    "xtotal.append(x3)\n",
    "xtotal.append(x4)\n",
    "xtotal.append(x5)\n",
    "xtotal.append(x6)\n",
    "xtotal.append(x7)\n",
    "xtotal.append(x8)\n",
    "xtotal.append(x9)\n",
    "xtotal.append(x10)"
   ]
  },
  {
   "cell_type": "code",
   "execution_count": 163,
   "metadata": {},
   "outputs": [
    {
     "name": "stdout",
     "output_type": "stream",
     "text": [
      "[7.902418062052842e-08, 0.5956146233054389, 1.129546472307478, 1.550727421728379, 1.819405607010244, 1.9105379600011552, 1.8158592599148606, 1.5445669642146462, 1.1225972513574727, 0.5905013878821506, 2.3447940305135764e-16]\n",
      "[9.093877049958299e-08, 0.7897789656345141, 1.4962687744015049, 2.0524494617015985, 2.4064909180677962, 2.525949147368768, 2.40027751397041, 2.0416465886644994, 1.4840653336437817, 0.7807823624380416, 3.102735163977002e-16]\n"
     ]
    },
    {
     "data": {
      "text/plain": [
       "11"
      ]
     },
     "execution_count": 163,
     "metadata": {},
     "output_type": "execute_result"
    }
   ],
   "source": [
    "print(x1)\n",
    "print(x2)\n",
    "len(x10)"
   ]
  },
  {
   "cell_type": "code",
   "execution_count": 165,
   "metadata": {},
   "outputs": [
    {
     "data": {
      "text/plain": [
       "Text(0, 0.5, 'distance [m]')"
      ]
     },
     "execution_count": 165,
     "metadata": {},
     "output_type": "execute_result"
    }
   ],
   "source": [
    "plt.clf()\n",
    "plt.figure(4)\n",
    "\n",
    "plt.plot(angle, x1, label='v = %0.2f m/s' % V_mags[0])\n",
    "plt.plot(angle, x2, label='v = %0.2f m/s' % V_mags[1])\n",
    "plt.plot(angle, x3, label='v = %0.2f m/s' % V_mags[2])\n",
    "plt.plot(angle, x4, label='v = %0.2f m/s' % V_mags[3])\n",
    "plt.plot(angle, x5, label='v = %0.2f m/s' % V_mags[4])\n",
    "plt.plot(angle, x6, label='v = %0.2f m/s' % V_mags[5])\n",
    "plt.plot(angle, x7, label='v = %0.2f m/s' % V_mags[6])\n",
    "plt.plot(angle, x8, label='v = %0.2f m/s' % V_mags[7])\n",
    "plt.plot(angle, x9, label='v = %0.2f m/s' % V_mags[8])\n",
    "plt.plot(angle, x10, label='v = %0.2f m/s' % V_mags[9])\n",
    "\n",
    "plt.legend(loc='best')\n",
    "plt.grid(1)\n",
    "plt.xlabel(\"angle [degrees]\")\n",
    "plt.ylabel(\"distance [m]\")"
   ]
  },
  {
   "cell_type": "code",
   "execution_count": null,
   "metadata": {},
   "outputs": [],
   "source": []
  },
  {
   "cell_type": "code",
   "execution_count": null,
   "metadata": {},
   "outputs": [],
   "source": []
  }
 ],
 "metadata": {
  "kernelspec": {
   "display_name": "Python 3",
   "language": "python",
   "name": "python3"
  },
  "language_info": {
   "codemirror_mode": {
    "name": "ipython",
    "version": 3
   },
   "file_extension": ".py",
   "mimetype": "text/x-python",
   "name": "python",
   "nbconvert_exporter": "python",
   "pygments_lexer": "ipython3",
   "version": "3.8.3"
  }
 },
 "nbformat": 4,
 "nbformat_minor": 4
}
